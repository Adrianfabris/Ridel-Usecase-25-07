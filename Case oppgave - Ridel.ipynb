{
 "cells": [
  {
   "cell_type": "markdown",
   "id": "958cea6b",
   "metadata": {},
   "source": [
    "11 ulike rapporter i .xlsx \n",
    "- Inneholder tusenvis av turer(rows), ulike attributter(kolonner), \n",
    "- Interessert i 3-4 kolonner: tidspunkt, prisen, løyvenummer, (bilnummer if/A)\n",
    "- Tabelloverskrift kan bestå av 1-3 linjer, den siste inneholder kolonne beskrivelse^^\n",
    "- Format varierer betydelig \n",
    "- Bilnummer har formatet «xxnnnnn», f eks EL12345 eller PR54321. Løyvenummer har formatet «xxnnnnnnnnn», f eks AG4203000123, OS0303013246 eller «x-nnnnnnnn», f eks K-10030532. \n",
    "\n",
    "Oppgave 1 \n",
    "1. Read 11 .xlsx rapports\n",
    "2. Extract tidspunkt, prisen, løyvenummer, bilnummer columns from .xlsx\n",
    "3. Consolidate these columns into a dataframe\n",
    "Define functions for each column to clean each column\n",
    "4. Format all the dates to MM/dd/yyyy hh:mm:ss tt\n",
    "5. def clean_price(price): \n",
    "- Convert all data to integer and remove strings and remove ' ' \n",
    "- Use a price parser package to extract price https://github.com/oxylabs/Price-Parsing-Tutorial \n",
    "- Replace decimal separate with '.' from ',' \n",
    "6. Store dataframe in database\n",
    "7. Generate total value and divide by Løyvenummer\n",
    "8. Generate the excel file using the created dataframe\n",
    "9. Sorter etter løyvenummer og tidspunkt i excel filen"
   ]
  },
  {
   "cell_type": "code",
   "execution_count": 25,
   "id": "8db15579",
   "metadata": {},
   "outputs": [],
   "source": [
    "import pandas as pd\n",
    "import re as re\n",
    "import sqlite3\n",
    "import openpyxl\n",
    "from IPython.display import display, Image"
   ]
  },
  {
   "cell_type": "code",
   "execution_count": 8,
   "id": "2cdd58cc",
   "metadata": {},
   "outputs": [],
   "source": [
    "# Step 1: Read Excel Files\n",
    "excel_files = [\"salgs_rapport_en.xlsx\", \"salgs_rapport_to.xlsx\",] \n",
    "dataframes = [pd.read_excel(file) for file in excel_files]"
   ]
  },
  {
   "cell_type": "code",
   "execution_count": 9,
   "id": "b95cef26",
   "metadata": {},
   "outputs": [],
   "source": [
    "# Step 2: Data Extraction\n",
    "relevant_columns = [\"Tidspunkt\", \"Kundepris\", \"Løyve\",\"Bilnummer\"]\n",
    "dataframes_filtered = [df[relevant_columns] for df in dataframes]"
   ]
  },
  {
   "cell_type": "code",
   "execution_count": 10,
   "id": "c738b21d",
   "metadata": {},
   "outputs": [
    {
     "name": "stdout",
     "output_type": "stream",
     "text": [
      "          Tidspunkt  Kundepris         Løyve  Bilnummer\n",
      "0  01.05.2023 16:10        489  AG4203000196        NaN\n",
      "1  01.05.2023 16:30       1776  AG4203000009        NaN\n",
      "2  01.05.2023 16:40        243  AG4203000020        NaN\n",
      "3  01.05.2023 16:50        315  AG4203000071        NaN\n",
      "4  02.05.2023 09:15        420  AG4203000196        NaN\n",
      "5  02.05.2023 10:30        980  AG4203000009        NaN\n",
      "6  03.05.2023 14:20        550  AG4203000021        NaN\n",
      "7  03.05.2023 15:45        300  AG4203000078        NaN\n"
     ]
    }
   ],
   "source": [
    "# Step 3: Data consolidation \n",
    "consolidated_dataframe = pd.concat(dataframes_filtered, ignore_index=True)\n",
    "print(consolidated_dataframe)"
   ]
  },
  {
   "cell_type": "code",
   "execution_count": 11,
   "id": "0b52208c",
   "metadata": {},
   "outputs": [
    {
     "name": "stdout",
     "output_type": "stream",
     "text": [
      "          Tidspunkt  Kundepris         Løyve  Bilnummer\n",
      "0  01.05.2023 16:10        489  AG4203000196        NaN\n",
      "1  01.05.2023 16:30       1776  AG4203000009        NaN\n",
      "2  01.05.2023 16:40        243  AG4203000020        NaN\n",
      "3  01.05.2023 16:50        315  AG4203000071        NaN\n",
      "4  02.05.2023 09:15        420  AG4203000196        NaN\n",
      "5  02.05.2023 10:30        980  AG4203000009        NaN\n",
      "6  03.05.2023 14:20        550  AG4203000021        NaN\n",
      "7  03.05.2023 15:45        300  AG4203000078        NaN\n"
     ]
    }
   ],
   "source": [
    "# Step 4: Format Tidspunkt column\n",
    "def format_times_in_dataframe(consolidated_df, Tidspunkt):\n",
    "    consolidated_dataframe[Tidspunkt] = pd.to_datetime(consolidated_dataframe[Tidspunkt])\n",
    "    consolidated_dataframe[Tidspunkt] = consolidated_dataframe[Tidspunkt].dt.strftime(\"%m/%d/%Y %H:%M:%S\")\n",
    "    return consolidated_df\n",
    "print(consolidated_dataframe)"
   ]
  },
  {
   "cell_type": "code",
   "execution_count": 12,
   "id": "57bbfe17",
   "metadata": {},
   "outputs": [
    {
     "name": "stdout",
     "output_type": "stream",
     "text": [
      "          Tidspunkt  Kundepris         Løyve  Bilnummer\n",
      "0  01.05.2023 16:10        489  AG4203000196        NaN\n",
      "1  01.05.2023 16:30       1776  AG4203000009        NaN\n",
      "2  01.05.2023 16:40        243  AG4203000020        NaN\n",
      "3  01.05.2023 16:50        315  AG4203000071        NaN\n",
      "4  02.05.2023 09:15        420  AG4203000196        NaN\n",
      "5  02.05.2023 10:30        980  AG4203000009        NaN\n",
      "6  03.05.2023 14:20        550  AG4203000021        NaN\n",
      "7  03.05.2023 15:45        300  AG4203000078        NaN\n"
     ]
    }
   ],
   "source": [
    "# Step 5: Use regex to format price column\n",
    "def clean_price_data(consolidated_dataframe):\n",
    "    def clean_price(price_str):\n",
    "        # Remove any non-digit characters except commas and periods\n",
    "        cleaned_price = re.sub(r'[^\\d,.]', '', price_str)\n",
    "\n",
    "        # Remove multiple commas and periods, keeping the last one as the decimal point\n",
    "        cleaned_price = re.sub(r'[,.](?=.*[,.])', '', cleaned_price)\n",
    "\n",
    "        # Replace the last comma with a period to represent the decimal point\n",
    "        cleaned_price = cleaned_price.rsplit(',', 1)\n",
    "        if len(cleaned_price) > 1:\n",
    "            cleaned_price[-1] = '.' + cleaned_price[-1]\n",
    "        cleaned_price = ''.join(cleaned_price)\n",
    "\n",
    "        return cleaned_price\n",
    "\n",
    "    consolidated_dataframe['Kundepris'] = consolidated_dataframe['Kundepris'].apply(clean_price)\n",
    "\n",
    "    # Convert the column to numeric values \n",
    "    consolidated_dataframe['Kundepris'] = pd.to_numeric(consolidated_dataframe['Kundepris'], errors='coerce')\n",
    "\n",
    "    return consolidated_dataframe\n",
    "print(consolidated_dataframe)"
   ]
  },
  {
   "cell_type": "code",
   "execution_count": 47,
   "id": "f20e65de",
   "metadata": {},
   "outputs": [],
   "source": [
    "# Step 6: Store the dataframe in a database \n",
    "conn = sqlite3.connect('samlet_salgsdata.db')\n",
    "\n",
    "consolidated_dataframe.to_sql('people', conn, if_exists='replace', index=False)\n",
    "\n",
    "conn.close()"
   ]
  },
  {
   "cell_type": "code",
   "execution_count": 23,
   "id": "337eccbf",
   "metadata": {},
   "outputs": [
    {
     "name": "stdout",
     "output_type": "stream",
     "text": [
      "              Kundepris\n",
      "Løyve                  \n",
      "AG4203000009       2756\n",
      "AG4203000020        243\n",
      "AG4203000021        550\n",
      "AG4203000071        315\n",
      "AG4203000078        300\n",
      "AG4203000196        909\n",
      "5073\n"
     ]
    }
   ],
   "source": [
    "# Step 7: Generate total value and divide by løyvenummer\n",
    "total_kundepris = consolidated_dataframe['Kundepris'].sum()\n",
    "total_løyve = consolidated_dataframe.groupby('Løyve')['Kundepris'].sum()\n",
    "total_løyve_df = pd.DataFrame(total_løyve)\n",
    "print(total_løyve_df)\n",
    "print(total_kundepris)"
   ]
  },
  {
   "cell_type": "code",
   "execution_count": 24,
   "id": "9c06e22e",
   "metadata": {},
   "outputs": [
    {
     "name": "stdout",
     "output_type": "stream",
     "text": [
      "Excel file 'consolidated_data.xlsx' has been created successfully.\n"
     ]
    }
   ],
   "source": [
    "# Step 8: Generate the excel file \n",
    "excel_file_path = \"consolidated_data.xlsx\"\n",
    "writer = pd.ExcelWriter(excel_file_path, engine='xlsxwriter')\n",
    "\n",
    "consolidated_dataframe.to_excel(writer, sheet_name='Samlet salgsdata InterCab', index=False)\n",
    "total_løyve_df.to_excel(writer, sheet_name='Samlet salgsdata per Løyve', index=True)\n",
    "\n",
    "# Close the Pandas Excel writer and save the file\n",
    "writer.save()\n",
    "\n",
    "print(f\"Excel file '{excel_file_path}' has been created successfully.\")\n"
   ]
  },
  {
   "cell_type": "code",
   "execution_count": 30,
   "id": "aa79c813",
   "metadata": {},
   "outputs": [
    {
     "data": {
      "image/png": "[encoded data removed]",
      "text/plain": [
       "<IPython.core.display.Image object>"
      ]
     },
     "metadata": {},
     "output_type": "display_data"
    },
    {
     "data": {
      "image/png": "[encoded data removed]",
      "text/plain": [
       "<IPython.core.display.Image object>"
      ]
     },
     "metadata": {},
     "output_type": "display_data"
    },
    {
     "data": {
      "image/png": "[encoded data removed]",
      "text/plain": [
       "<IPython.core.display.Image object>"
      ]
     },
     "metadata": {},
     "output_type": "display_data"
    }
   ],
   "source": [
    "samlet_salgsdata = 'samlet_salgsdata.png'\n",
    "display(Image(filename=samlet_salgsdata))\n",
    "samlet_løyve = 'samlet_løyve.png'\n",
    "display(Image(filename=samlet_løyve))\n",
    "sheets = \"sheets.png\"\n",
    "display(Image(filename=sheets))"
   ]
  },
  {
   "cell_type": "markdown",
   "id": "9669c57f",
   "metadata": {},
   "source": [
    "Oppgave 2. Lage brukervennlig grensesnitt: laste opp excel filer, lagre dataene i database og generere excel output fil.\n",
    "Den enkleste måten for en bruker til å kunne laste opp excel filer og få en clean excel fil i return, som også lastes opp i en database. Følgende er en eksempel på en løsning. \n",
    "\n",
    "- Lag en nettside ved å bruke HTML, CSS, JavaScript, Node.js, Express.js og MongoDB \n",
    "\n",
    "- En annen løsning til oppgave 2 som er ikke helt like omfattende er å lage hele backend i python rammeverket flask\n",
    "  og kun bruke JavaScript til å lese excel filene, extracte kolonnene og gi knappen funksjonalitet. Og bruke HTML for å \n",
    "  utforme nettsiden. \n",
    "\n",
    "MongoDB: er en non-relation database system der data lagres i en format som ligner JSON. \n",
    "\n",
    "ExpressJS: er bygd på NodeJS og brukes til å gjennomføre standard HTTP metoder CRUD (Create, Read, Update, Delete). \n",
    "\n",
    "HTML: lag en knapp der man kan velge filer og laste de opp.   "
   ]
  },
  {
   "cell_type": "markdown",
   "id": "a9c40c2d",
   "metadata": {},
   "source": [
    "<!-- index.html -->\n",
    "<!DOCTYPE html>\n",
    "<html>\n",
    "  <head>\n",
    "    <title>Excel File Upload</title>\n",
    "  </head>\n",
    "  <body>\n",
    "    <h1>Upload Excel File</h1>\n",
    "    <form>\n",
    "      <input type=\"file\" id=\"excelFile\" accept=\".xlsx, .xls\" />\n",
    "      <button type=\"button\" onclick=\"uploadFile()\">Upload</button>\n",
    "    </form>\n",
    "    <div id=\"status\"></div>\n",
    "    <a id=\"downloadLink\" style=\"display: none\" href=\"#\" download\n",
    "      >Download Consolidated Excel File</a\n",
    "    >\n",
    "\n",
    "    <script src=\"script.js\"></script>\n",
    "  </body>\n",
    "</html>"
   ]
  },
  {
   "cell_type": "markdown",
   "id": "9c35f7ff",
   "metadata": {},
   "source": [
    "JavaScript og NodeJS: \n",
    "1. Skap funksjonalitet til knappen. \n",
    "2. Les excel filen. \n",
    "3. Hent dataen fra excel filen og set dataen i en workbook. \n",
    "4. Clean dataen.\n",
    "5. Konsolider dataen i en excel fil.\n",
    "6. Lagre dataen i MongoDB database. \n",
    "7. Lag en download link for å laste ned excel filen. \n",
    "8. Implementer error handling og validering. Feil som:\n",
    "    1. Feil filtype.\n",
    "    2. Mangel på kolonner. \n",
    "    3. Database feilkobling\n",
    "9. Deploy nettsiden "
   ]
  },
  {
   "cell_type": "markdown",
   "id": "67bff925",
   "metadata": {},
   "source": [
    "'use strict';\n",
    "async function uploadFile() {\n",
    "  const fileInput = document.getElementById('excelFile');\n",
    "  const file = fileInput.files[0];\n",
    "\n",
    "  if (file) {\n",
    "    try {\n",
    "      const workbook = await readExcelFile(file);\n",
    "      const relevantData = extractRelevantData(workbook);\n",
    "      const cleanedData = cleanData(relevantData);\n",
    "      const consolidatedWorkbook = createConsolidatedExcel(cleanedData);\n",
    "      await saveToDatabase(cleanedData);\n",
    "      downloadConsolidatedExcel(consolidatedWorkbook);\n",
    "      document.getElementById('status').textContent =\n",
    "        'File processed and saved to the database.';\n",
    "      document.getElementById('downloadLink').style.display = 'block';\n",
    "    } catch (error) {\n",
    "      console.error(error);\n",
    "      document.getElementById('status').textContent =\n",
    "        'Error processing the file.';\n",
    "    }\n",
    "  } else {\n",
    "    document.getElementById('status').textContent =\n",
    "      'Please select an Excel file to upload.';\n",
    "  }\n",
    "}\n",
    "\n",
    "function readExcelFile(file) {\n",
    "  return new Promise((resolve, reject) => {\n",
    "    const reader = new FileReader();\n",
    "    reader.onload = (event) => {\n",
    "      const data = event.target.result;\n",
    "      const workbook = XLSX.read(data, { type: 'binary' });\n",
    "      resolve(workbook);\n",
    "    };\n",
    "    reader.onerror = (error) => reject(error);\n",
    "    reader.readAsBinaryString(file);\n",
    "  });\n",
    "}\n",
    "\n",
    "function extractRelevantData(workbook) {\n",
    "  const relevantColumns = ['Tidspunkt', 'Kundepris', 'Løyve', 'Bilnummer'];\n",
    "  const dataframesFiltered = dataframes.map((df) => {\n",
    "    return df.map((row) => {\n",
    "      return relevantColumns.reduce((filteredRow, col) => {\n",
    "        filteredRow[col] = row[col];\n",
    "        return filteredRow;\n",
    "      }, {});\n",
    "    });\n",
    "  });\n",
    "}\n",
    "\n",
    "function cleanData(data) {\n",
    "  // Implement data cleaning logic\n",
    "}\n",
    "\n",
    "function createConsolidatedExcel(data) {\n",
    "  // Use SheetJS or similar library to create a new workbook with the cleaned data\n",
    "}\n",
    "\n",
    "async function saveToDatabase(data) {\n",
    "  // Implement database interaction logic to save the data\n",
    "}\n",
    "\n",
    "function downloadConsolidatedExcel(workbook) {\n",
    "  const excelBuffer = XLSX.write(workbook, { type: 'array' });\n",
    "  const blob = new Blob([excelBuffer], {\n",
    "    type: 'application/vnd.openxmlformats-officedocument.spreadsheetml.sheet',\n",
    "  });\n",
    "  const url = URL.createObjectURL(blob);\n",
    "  const downloadLink = document.getElementById('downloadLink');\n",
    "  downloadLink.href = url;\n",
    "}"
   ]
  },
  {
   "cell_type": "markdown",
   "id": "f78dcd9c",
   "metadata": {},
   "source": [
    "Oppgave 3. Importfeil fra excel til db. Hvilke? Hvorfor? Hvordan kan man forebygge slike feil? Hva hvis feilene ennå oppstår?\n",
    "\n",
    "Viktig at error handling og validering sjekker dette før dataen lastes opp i databasen:\n",
    "\n",
    "1. Data format og type mismatch. \n",
    "2. Nullverdier og tomme cells. \n",
    "3. Dataformatet kan variere. \n",
    "\n",
    "For å forebygge slike feil er det viktig at man har kodet funksjonaliteten i node.js for å sjekke slike feil. I tillegg så må man passe på at funksjonene skrevet i JavaScript er fri for bugs. Det man kan teste med litt mindre data og i terminalen. Hvis feilene ennå oppstår kan man vise en feilmelding til brukeren, og si til brukeren at de må laste opp en ny feil, fordi det kan ha noen feil. (Egentlig burde ikke slike feil fortsette å oppstå). \n"
   ]
  },
  {
   "cell_type": "markdown",
   "id": "9c60b073",
   "metadata": {},
   "source": [
    "Oppgave 4. Hvordan utvide løsningen til å håndtere flere datafelt og andre formater. \n",
    "Slik den er designet ovenfor er nettsiden robust nok at den kan håndtere andre formater og nye kolonner. \n",
    "Det eneste som må endres i koden er i script.js så må man endre variablen\n",
    "const relevantColumns = ['Tidspunkt', 'Kundepris', 'Løyve', 'Bilnummer'];\n",
    "til de nye kolonnene man er ute etter. "
   ]
  }
 ],
 "metadata": {
  "kernelspec": {
   "display_name": "Python 3 (ipykernel)",
   "language": "python",
   "name": "python3"
  },
  "language_info": {
   "codemirror_mode": {
    "name": "ipython",
    "version": 3
   },
   "file_extension": ".py",
   "mimetype": "text/x-python",
   "name": "python",
   "nbconvert_exporter": "python",
   "pygments_lexer": "ipython3",
   "version": "3.9.12"
  }
 },
 "nbformat": 4,
 "nbformat_minor": 5
}
